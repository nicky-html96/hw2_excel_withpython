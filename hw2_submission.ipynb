{
 "cells": [
  {
   "cell_type": "markdown",
   "id": "d8857304-21ab-4fa8-9cc8-d1a1af362f30",
   "metadata": {},
   "source": [
    "# Title"
   ]
  },
  {
   "cell_type": "markdown",
   "id": "1901acce-4aa8-4280-93e0-c7cb2940fbd9",
   "metadata": {},
   "source": [
    "description"
   ]
  },
  {
   "cell_type": "markdown",
   "id": "7f1d6a36-c4ac-49ee-8691-e0ecc4ba9367",
   "metadata": {},
   "source": [
    "* link to [video](https://www.youtube.com/watch?v=dLCGAuiJ1U0) for assignment overview\n",
    "* analysis 1 con be done in conjustion with the What-if analysis with python module"
   ]
  },
  {
   "cell_type": "markdown",
   "id": "46ead8f5-b9cb-43c2-b2b8-77a4f9892218",
   "metadata": {},
   "source": [
    "## Preliminaries"
   ]
  },
  {
   "cell_type": "code",
   "execution_count": 9,
   "id": "8721ed62-8069-47e4-ae61-bee848796162",
   "metadata": {},
   "outputs": [
    {
     "name": "stdout",
     "output_type": "stream",
     "text": [
      "The autoreload extension is already loaded. To reload it, use:\n",
      "  %reload_ext autoreload\n"
     ]
    }
   ],
   "source": [
    "# To auto-reload modules in jupyter notebook (so that changes in files *.py doesn't require manual reloading):\n",
    "# https://stackoverflow.com/questions/5364050/reloading-submodules-in-ipython\n",
    "%load_ext autoreload\n",
    "%autoreload 2"
   ]
  },
  {
   "cell_type": "code",
   "execution_count": 11,
   "id": "86cbcfe3-7056-41e9-8648-4b057fdb2e96",
   "metadata": {},
   "outputs": [],
   "source": [
    "import numpy as np\n",
    "import pandas as pd\n",
    "import matplotlib.pyplot as plt\n",
    "import seaborn as sns\n"
   ]
  },
  {
   "cell_type": "code",
   "execution_count": 13,
   "id": "a351a3fa-7d32-487e-a381-0ba419396c62",
   "metadata": {},
   "outputs": [],
   "source": [
    "%matplotlib inline"
   ]
  },
  {
   "cell_type": "markdown",
   "id": "9e9d72ba-5fe5-4b84-89e8-795a12acfb1d",
   "metadata": {},
   "source": [
    "## Create Model"
   ]
  },
  {
   "cell_type": "markdown",
   "id": "496b03b0-850f-4655-9abc-dbb0c44097e0",
   "metadata": {},
   "source": [
    "First we will need to import the things we need from the whatif module"
   ]
  },
  {
   "cell_type": "code",
   "execution_count": 17,
   "id": "e5b99a77-89ee-4ad7-b87c-e250f71f6142",
   "metadata": {},
   "outputs": [],
   "source": [
    "from whatif import Model\n",
    "from whatif import get_sim_results_df"
   ]
  },
  {
   "cell_type": "code",
   "execution_count": 31,
   "id": "9f5e3312-d60a-4f3a-8912-46b4273df8df",
   "metadata": {},
   "outputs": [],
   "source": [
    "class SingleProductSPF(Model):\n",
    "    \"\"\"HW2 Model\"\"\"\n",
    "    def __init__(self, fixed_cost=5000, var_cost=100, selling_price=115, \n",
    "                 spf_constant=4900, spf_linear=-35, spf_quadratic=0.06):\n",
    "        self.fixed_cost = fixed_cost\n",
    "        self.var_cost = var_cost\n",
    "        self.selling_price = selling_price\n",
    "        self.spf_constant = spf_constant\n",
    "        self.spf_linear = spf_linear\n",
    "        self.spf_quadratic = spf_quadratic\n",
    "\n",
    "    def demand(self):\n",
    "        \"\"\"Computing Demand\"\"\"\n",
    "        demand = \n",
    "        return demand"
   ]
  },
  {
   "cell_type": "code",
   "execution_count": 33,
   "id": "232dab6a-fefa-4104-94b9-0f5bf07e5119",
   "metadata": {},
   "outputs": [
    {
     "name": "stdout",
     "output_type": "stream",
     "text": [
      "{'fixed_cost': 5000, 'var_cost': 100, 'selling_price': 115, 'spf_constant': 4900, 'spf_linear': -35, 'spf_quadratic': 0.06}\n"
     ]
    }
   ],
   "source": [
    "model = SingleProductSPF()\n",
    "print(model)"
   ]
  },
  {
   "cell_type": "code",
   "execution_count": 39,
   "id": "f706ac37-c9c6-4612-8af0-bbc99af0a526",
   "metadata": {},
   "outputs": [
    {
     "data": {
      "text/plain": [
       "\u001b[1;31mSignature:\u001b[0m \u001b[0mmodel\u001b[0m\u001b[1;33m.\u001b[0m\u001b[0mdata_table\u001b[0m\u001b[1;33m(\u001b[0m\u001b[0mscenario_inputs\u001b[0m\u001b[1;33m,\u001b[0m \u001b[0moutputs\u001b[0m\u001b[1;33m)\u001b[0m\u001b[1;33m\u001b[0m\u001b[1;33m\u001b[0m\u001b[0m\n",
       "\u001b[1;31mDocstring:\u001b[0m\n",
       "Create n-inputs by m-outputs data table.\n",
       "\n",
       "Parameters\n",
       "----------\n",
       "scenario_inputs : dict of str to sequence\n",
       "    Keys are input variable names and values are sequence of values for each scenario for this variable.\n",
       "\n",
       "outputs : list of str\n",
       "    List of output variable names\n",
       "\n",
       "Returns\n",
       "-------\n",
       "results_df : pandas DataFrame\n",
       "    Contains values of all outputs for every combination of scenario inputs\n",
       "\u001b[1;31mFile:\u001b[0m      c:\\users\\22nic\\onedrive\\documents\\ou-summer24\\hw-files\\hw2_excel_withpython\\whatif.py\n",
       "\u001b[1;31mType:\u001b[0m      method"
      ]
     },
     "metadata": {},
     "output_type": "display_data"
    }
   ],
   "source": [
    "model.data_table?"
   ]
  },
  {
   "cell_type": "code",
   "execution_count": null,
   "id": "923c6bdf-e8d4-48f4-99a3-c918c65e13a9",
   "metadata": {},
   "outputs": [],
   "source": []
  }
 ],
 "metadata": {
  "kernelspec": {
   "display_name": "Python [conda env:aap]",
   "language": "python",
   "name": "conda-env-aap-py"
  },
  "language_info": {
   "codemirror_mode": {
    "name": "ipython",
    "version": 3
   },
   "file_extension": ".py",
   "mimetype": "text/x-python",
   "name": "python",
   "nbconvert_exporter": "python",
   "pygments_lexer": "ipython3",
   "version": "3.12.3"
  }
 },
 "nbformat": 4,
 "nbformat_minor": 5
}

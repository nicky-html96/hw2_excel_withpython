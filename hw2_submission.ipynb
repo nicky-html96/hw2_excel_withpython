{
 "cells": [
  {
   "cell_type": "markdown",
   "id": "d8857304-21ab-4fa8-9cc8-d1a1af362f30",
   "metadata": {},
   "source": [
    "# HW2 - Excel work w/ Python"
   ]
  },
  {
   "cell_type": "markdown",
   "id": "1901acce-4aa8-4280-93e0-c7cb2940fbd9",
   "metadata": {},
   "source": [
    "In this homework assignment, we will be performing Excel work through Python using OO models, datatables, goal_seek, and wrangling of data."
   ]
  },
  {
   "cell_type": "markdown",
   "id": "7f1d6a36-c4ac-49ee-8691-e0ecc4ba9367",
   "metadata": {},
   "source": [
    "* link to [video](https://www.youtube.com/watch?v=dLCGAuiJ1U0) for assignment overview\n",
    "* analysis 1 con be done in conjustion with the What-if analysis with python module"
   ]
  },
  {
   "cell_type": "markdown",
   "id": "46ead8f5-b9cb-43c2-b2b8-77a4f9892218",
   "metadata": {},
   "source": [
    "## Preliminaries"
   ]
  },
  {
   "cell_type": "code",
   "execution_count": 4,
   "id": "8721ed62-8069-47e4-ae61-bee848796162",
   "metadata": {},
   "outputs": [],
   "source": [
    "# To auto-reload modules in jupyter notebook (so that changes in files *.py doesn't require manual reloading):\n",
    "# https://stackoverflow.com/questions/5364050/reloading-submodules-in-ipython\n",
    "%load_ext autoreload\n",
    "%autoreload 2"
   ]
  },
  {
   "cell_type": "code",
   "execution_count": 251,
   "id": "86cbcfe3-7056-41e9-8648-4b057fdb2e96",
   "metadata": {},
   "outputs": [],
   "source": [
    "import numpy as np\n",
    "import pandas as pd\n",
    "import matplotlib.pyplot as plt\n",
    "from mpl_toolkits.mplot3d import Axes3D\n",
    "import seaborn as sns\n",
    "from sklearn.model_selection._search import ParameterGrid\n",
    "import copy"
   ]
  },
  {
   "cell_type": "code",
   "execution_count": 247,
   "id": "a351a3fa-7d32-487e-a381-0ba419396c62",
   "metadata": {},
   "outputs": [],
   "source": [
    "%matplotlib inline"
   ]
  },
  {
   "cell_type": "markdown",
   "id": "2fd94173-7513-45ae-af8d-af0d03789963",
   "metadata": {},
   "source": [
    "# Analysis 1"
   ]
  },
  {
   "cell_type": "markdown",
   "id": "9e9d72ba-5fe5-4b84-89e8-795a12acfb1d",
   "metadata": {},
   "source": [
    "## 1a - Create Base Model"
   ]
  },
  {
   "cell_type": "markdown",
   "id": "496b03b0-850f-4655-9abc-dbb0c44097e0",
   "metadata": {},
   "source": [
    "First we will need to import the things we need from the whatif module"
   ]
  },
  {
   "cell_type": "code",
   "execution_count": 12,
   "id": "e5b99a77-89ee-4ad7-b87c-e250f71f6142",
   "metadata": {},
   "outputs": [],
   "source": [
    "from whatif import Model\n",
    "from whatif import get_sim_results_df"
   ]
  },
  {
   "cell_type": "code",
   "execution_count": 144,
   "id": "9f5e3312-d60a-4f3a-8912-46b4273df8df",
   "metadata": {},
   "outputs": [],
   "source": [
    "class SingleProductSPF(Model):\n",
    "    \"\"\"HW2 Model\"\"\"\n",
    "    def __init__(self, fixed_cost=5000, var_cost=100, selling_price=115, \n",
    "                 spf_constant=4900, spf_linear=-35, spf_quadratic=0.06):\n",
    "        self.fixed_cost = fixed_cost\n",
    "        self.var_cost = var_cost\n",
    "        self.selling_price = selling_price\n",
    "        self.spf_constant = spf_constant\n",
    "        self.spf_linear = spf_linear\n",
    "        self.spf_quadratic = spf_quadratic\n",
    "\n",
    "    def demand(self):\n",
    "        \"\"\"Computing Demand\"\"\"\n",
    "        demand = self.spf_quadratic * self.selling_price**2 + self.spf_linear * self.selling_price + self.spf_constant\n",
    "        return demand\n",
    "\n",
    "    def production_cost(self):\n",
    "        \"\"\"Computing the cost to produce the product\"\"\"\n",
    "        production_cost = self.var_cost * self.demand()\n",
    "        return production_cost\n",
    "\n",
    "    def total_cost(self):\n",
    "        \"\"\"Computing the total cost of everything\"\"\"\n",
    "        total_cost = self.production_cost() + self.fixed_cost\n",
    "        return total_cost\n",
    "    \n",
    "    def sales_revenue(self):\n",
    "        \"\"\"Compute sales revenue\"\"\"\n",
    "        sales_revenue = self.selling_price * self.demand()\n",
    "        return sales_revenue\n",
    "    \n",
    "    def profit(self):\n",
    "        \"\"\"Compute profit\"\"\"\n",
    "        profit = self.sales_revenue() - self.total_cost()\n",
    "        return profit"
   ]
  },
  {
   "cell_type": "code",
   "execution_count": 146,
   "id": "232dab6a-fefa-4104-94b9-0f5bf07e5119",
   "metadata": {},
   "outputs": [
    {
     "name": "stdout",
     "output_type": "stream",
     "text": [
      "{'fixed_cost': 5000, 'var_cost': 100, 'selling_price': 115, 'spf_constant': 4900, 'spf_linear': -35, 'spf_quadratic': 0.06}\n"
     ]
    }
   ],
   "source": [
    "model = SingleProductSPF()\n",
    "print(model)"
   ]
  },
  {
   "cell_type": "markdown",
   "id": "0c5dc4c5-b8b9-4e55-a1ed-506d7294dc60",
   "metadata": {},
   "source": [
    "Checking to see if demand and profit are correct based on the info in the hw. "
   ]
  },
  {
   "cell_type": "code",
   "execution_count": 149,
   "id": "70d34223-cc8b-4e94-addf-9752a285d19e",
   "metadata": {},
   "outputs": [
    {
     "name": "stdout",
     "output_type": "stream",
     "text": [
      "1668.5\n",
      "20027.5\n",
      "171850.0\n",
      "166850.0\n"
     ]
    }
   ],
   "source": [
    "print(model.demand())\n",
    "print(model.profit())\n",
    "print(model.total_cost())\n",
    "print(model.production_cost())"
   ]
  },
  {
   "cell_type": "markdown",
   "id": "3fce7519-f7df-4a25-8d94-f94de4f50f28",
   "metadata": {},
   "source": [
    "Calculations and formulations were correct!"
   ]
  },
  {
   "cell_type": "markdown",
   "id": "59f1b7d3-40bb-4a38-96eb-fa8d599fb4a4",
   "metadata": {},
   "source": [
    "## 1b - One-way Data Table"
   ]
  },
  {
   "cell_type": "markdown",
   "id": "d0816996-7ff3-45d6-87b7-1d6db2162f4e",
   "metadata": {},
   "source": [
    "We are now specifiying the range for our input, which is `selling_price`, and the outputs, `profit` and `demand` for our 1-way data table. Then we will plug in our scenario_inputs and outputs in the datatable fucntion provided by our model."
   ]
  },
  {
   "cell_type": "code",
   "execution_count": 154,
   "id": "68b61677-1a98-4cc7-ab77-03f6c15e5f19",
   "metadata": {},
   "outputs": [],
   "source": [
    "# Specifying input ranges between $80 and $140\n",
    "dt_param_range1 = {'selling_price': np.arange(80, 141, 10)}\n",
    "\n",
    "# specifying output\n",
    "outputs = ['profit', 'demand']"
   ]
  },
  {
   "cell_type": "code",
   "execution_count": 155,
   "id": "f706ac37-c9c6-4612-8af0-bbc99af0a526",
   "metadata": {},
   "outputs": [
    {
     "data": {
      "text/html": [
       "<div>\n",
       "<style scoped>\n",
       "    .dataframe tbody tr th:only-of-type {\n",
       "        vertical-align: middle;\n",
       "    }\n",
       "\n",
       "    .dataframe tbody tr th {\n",
       "        vertical-align: top;\n",
       "    }\n",
       "\n",
       "    .dataframe thead th {\n",
       "        text-align: right;\n",
       "    }\n",
       "</style>\n",
       "<table border=\"1\" class=\"dataframe\">\n",
       "  <thead>\n",
       "    <tr style=\"text-align: right;\">\n",
       "      <th></th>\n",
       "      <th>selling_price</th>\n",
       "      <th>profit</th>\n",
       "      <th>demand</th>\n",
       "    </tr>\n",
       "  </thead>\n",
       "  <tbody>\n",
       "    <tr>\n",
       "      <th>0</th>\n",
       "      <td>80</td>\n",
       "      <td>-54680.0</td>\n",
       "      <td>2484.0</td>\n",
       "    </tr>\n",
       "    <tr>\n",
       "      <th>1</th>\n",
       "      <td>90</td>\n",
       "      <td>-27360.0</td>\n",
       "      <td>2236.0</td>\n",
       "    </tr>\n",
       "    <tr>\n",
       "      <th>2</th>\n",
       "      <td>100</td>\n",
       "      <td>-5000.0</td>\n",
       "      <td>2000.0</td>\n",
       "    </tr>\n",
       "    <tr>\n",
       "      <th>3</th>\n",
       "      <td>110</td>\n",
       "      <td>12760.0</td>\n",
       "      <td>1776.0</td>\n",
       "    </tr>\n",
       "    <tr>\n",
       "      <th>4</th>\n",
       "      <td>120</td>\n",
       "      <td>26280.0</td>\n",
       "      <td>1564.0</td>\n",
       "    </tr>\n",
       "    <tr>\n",
       "      <th>5</th>\n",
       "      <td>130</td>\n",
       "      <td>35920.0</td>\n",
       "      <td>1364.0</td>\n",
       "    </tr>\n",
       "    <tr>\n",
       "      <th>6</th>\n",
       "      <td>140</td>\n",
       "      <td>42040.0</td>\n",
       "      <td>1176.0</td>\n",
       "    </tr>\n",
       "  </tbody>\n",
       "</table>\n",
       "</div>"
      ],
      "text/plain": [
       "   selling_price   profit  demand\n",
       "0             80 -54680.0  2484.0\n",
       "1             90 -27360.0  2236.0\n",
       "2            100  -5000.0  2000.0\n",
       "3            110  12760.0  1776.0\n",
       "4            120  26280.0  1564.0\n",
       "5            130  35920.0  1364.0\n",
       "6            140  42040.0  1176.0"
      ]
     },
     "execution_count": 155,
     "metadata": {},
     "output_type": "execute_result"
    }
   ],
   "source": [
    "# Creation of 1-way data table\n",
    "model_dt1 = model.data_table(dt_param_range1, outputs)\n",
    "model_dt1"
   ]
  },
  {
   "cell_type": "code",
   "execution_count": 158,
   "id": "b4879eac-7087-4476-8749-954861333cc1",
   "metadata": {},
   "outputs": [],
   "source": [
    "# # 3D plot - Make the plot \n",
    "# fig = plt.figure()\n",
    "# ax = fig.add_subplot(111, projection='3d')\n",
    "# ax.scatter(model_dt1['selling_price'], model_dt1['profit'], model_dt1['demand'], \n",
    "#                 cmap=plt.cm.viridis)\n",
    "\n",
    "# ax.set_xlabel('Selling_Price')\n",
    "# ax.set_ylabel('Profit')\n",
    "# ax.set_zlabel('Demand')\n",
    "\n",
    "# plt.show();"
   ]
  },
  {
   "cell_type": "code",
   "execution_count": 160,
   "id": "f7ea3397-7e46-4723-b1c0-09639d1b8486",
   "metadata": {},
   "outputs": [
    {
     "data": {
      "image/png": "[encoded data removed]",
      "text/plain": [
       "<Figure size 640x480 with 1 Axes>"
      ]
     },
     "metadata": {},
     "output_type": "display_data"
    }
   ],
   "source": [
    "sns.set_style(\"darkgrid\")\n",
    "sns.scatterplot(x=\"demand\", y=\"selling_price\", hue=\"profit\", data=model_dt1, palette=\"viridis\").set(title='How profit varies w/ demand and selling_price');"
   ]
  },
  {
   "cell_type": "code",
   "execution_count": 162,
   "id": "923c6bdf-e8d4-48f4-99a3-c918c65e13a9",
   "metadata": {},
   "outputs": [],
   "source": [
    "# profit_dt_g = sns.FacetGrid(model_dt1, col=\"demand\", sharey=True, col_wrap=2)\n",
    "# profit_dt_g = profit_dt_g.map(plt.plot, \"selling_price\", \"profit\")"
   ]
  },
  {
   "cell_type": "markdown",
   "id": "69b2fac2-8f37-4da0-b23c-5e28ec4792fb",
   "metadata": {},
   "source": [
    "**Explanation of graph:**"
   ]
  },
  {
   "cell_type": "markdown",
   "id": "792f730f-e4d8-4997-ad13-1c7c3abe6efd",
   "metadata": {},
   "source": [
    "## 1c - Break Even"
   ]
  },
  {
   "cell_type": "code",
   "execution_count": 166,
   "id": "49b6b03f-38c8-4066-aade-b1ac0ab4532c",
   "metadata": {},
   "outputs": [
    {
     "data": {
      "text/html": [
       "<div>\n",
       "<style scoped>\n",
       "    .dataframe tbody tr th:only-of-type {\n",
       "        vertical-align: middle;\n",
       "    }\n",
       "\n",
       "    .dataframe tbody tr th {\n",
       "        vertical-align: top;\n",
       "    }\n",
       "\n",
       "    .dataframe thead th {\n",
       "        text-align: right;\n",
       "    }\n",
       "</style>\n",
       "<table border=\"1\" class=\"dataframe\">\n",
       "  <thead>\n",
       "    <tr style=\"text-align: right;\">\n",
       "      <th></th>\n",
       "      <th>selling_price</th>\n",
       "      <th>profit</th>\n",
       "      <th>demand</th>\n",
       "    </tr>\n",
       "  </thead>\n",
       "  <tbody>\n",
       "    <tr>\n",
       "      <th>0</th>\n",
       "      <td>80</td>\n",
       "      <td>-54680.0</td>\n",
       "      <td>2484.0</td>\n",
       "    </tr>\n",
       "    <tr>\n",
       "      <th>1</th>\n",
       "      <td>90</td>\n",
       "      <td>-27360.0</td>\n",
       "      <td>2236.0</td>\n",
       "    </tr>\n",
       "    <tr>\n",
       "      <th>2</th>\n",
       "      <td>100</td>\n",
       "      <td>-5000.0</td>\n",
       "      <td>2000.0</td>\n",
       "    </tr>\n",
       "    <tr>\n",
       "      <th>3</th>\n",
       "      <td>110</td>\n",
       "      <td>12760.0</td>\n",
       "      <td>1776.0</td>\n",
       "    </tr>\n",
       "    <tr>\n",
       "      <th>4</th>\n",
       "      <td>120</td>\n",
       "      <td>26280.0</td>\n",
       "      <td>1564.0</td>\n",
       "    </tr>\n",
       "    <tr>\n",
       "      <th>5</th>\n",
       "      <td>130</td>\n",
       "      <td>35920.0</td>\n",
       "      <td>1364.0</td>\n",
       "    </tr>\n",
       "    <tr>\n",
       "      <th>6</th>\n",
       "      <td>140</td>\n",
       "      <td>42040.0</td>\n",
       "      <td>1176.0</td>\n",
       "    </tr>\n",
       "  </tbody>\n",
       "</table>\n",
       "</div>"
      ],
      "text/plain": [
       "   selling_price   profit  demand\n",
       "0             80 -54680.0  2484.0\n",
       "1             90 -27360.0  2236.0\n",
       "2            100  -5000.0  2000.0\n",
       "3            110  12760.0  1776.0\n",
       "4            120  26280.0  1564.0\n",
       "5            130  35920.0  1364.0\n",
       "6            140  42040.0  1176.0"
      ]
     },
     "execution_count": 166,
     "metadata": {},
     "output_type": "execute_result"
    }
   ],
   "source": [
    "model_dt1"
   ]
  },
  {
   "cell_type": "code",
   "execution_count": 168,
   "id": "65ee1fbb-cf68-4121-be1c-a24885123e9a",
   "metadata": {},
   "outputs": [
    {
     "name": "stdout",
     "output_type": "stream",
     "text": [
      "The Break Even point for this scenario is for selling price to be at: 102.57578606424767\n"
     ]
    }
   ],
   "source": [
    "# Specifying input ranges\n",
    "dt_param_range1 = {'selling_price': np.arange(80, 141, 10)}\n",
    "\n",
    "# specifying output\n",
    "outputs = ['profit', 'demand']\n",
    "\n",
    "model_goal_dt1 = model.goal_seek('profit', 0, 'selling_price', 80, 141, 1000)\n",
    "print(f\"The Break Even point for this scenario is for selling price to be at: {model_goal_dt1}\")"
   ]
  },
  {
   "cell_type": "code",
   "execution_count": 170,
   "id": "8984c3d8-b5f3-4503-873e-2b6f371e5b52",
   "metadata": {},
   "outputs": [],
   "source": [
    "# # Initialize plot\n",
    "# plt.style.use('ggplot')\n",
    "# fig, ax = plt.subplots()\n",
    "\n",
    "# # Create series variables\n",
    "# demand = np.array(model_goal_dt1['demand'])\n",
    "# selling_price = np.array(model_goal_dt1['selling_price'])\n",
    "# profit = np.array(model_goal_dt1['profit'])\n",
    "\n",
    "# # Plot series\n",
    "# ax.plot(demand, selling_price, label='Selling__Price')\n",
    "# ax.plot(demand, profit, label='Profit')\n",
    "\n",
    "# # Style plot elements\n",
    "# ax.set(title='Break even analysis for bookstore model', xlabel='Demand', ylabel='$')\n",
    "# plt.hlines(0, 70, 320, linestyles='dotted')\n",
    "# plt.vlines(break_even_demand, -750, 2000, linestyles='dotted')\n",
    "# ax.legend(loc='lower right')\n",
    "\n",
    "# # Show the plot\n",
    "# plt.show()"
   ]
  },
  {
   "cell_type": "markdown",
   "id": "528d2c37-7860-4127-becb-62253032ca32",
   "metadata": {},
   "source": [
    "## 1d - Two-way Data Table"
   ]
  },
  {
   "cell_type": "code",
   "execution_count": 173,
   "id": "d1e71609-5a64-498d-a4c4-6fe187632769",
   "metadata": {
    "collapsed": true,
    "jupyter": {
     "outputs_hidden": true
    }
   },
   "outputs": [
    {
     "data": {
      "text/html": [
       "<div>\n",
       "<style scoped>\n",
       "    .dataframe tbody tr th:only-of-type {\n",
       "        vertical-align: middle;\n",
       "    }\n",
       "\n",
       "    .dataframe tbody tr th {\n",
       "        vertical-align: top;\n",
       "    }\n",
       "\n",
       "    .dataframe thead th {\n",
       "        text-align: right;\n",
       "    }\n",
       "</style>\n",
       "<table border=\"1\" class=\"dataframe\">\n",
       "  <thead>\n",
       "    <tr style=\"text-align: right;\">\n",
       "      <th></th>\n",
       "      <th>selling_price</th>\n",
       "      <th>var_cost</th>\n",
       "      <th>profit</th>\n",
       "      <th>total_cost</th>\n",
       "    </tr>\n",
       "  </thead>\n",
       "  <tbody>\n",
       "    <tr>\n",
       "      <th>0</th>\n",
       "      <td>80</td>\n",
       "      <td>85</td>\n",
       "      <td>-17420.0</td>\n",
       "      <td>216140.0</td>\n",
       "    </tr>\n",
       "    <tr>\n",
       "      <th>1</th>\n",
       "      <td>80</td>\n",
       "      <td>90</td>\n",
       "      <td>-29840.0</td>\n",
       "      <td>228560.0</td>\n",
       "    </tr>\n",
       "    <tr>\n",
       "      <th>2</th>\n",
       "      <td>80</td>\n",
       "      <td>95</td>\n",
       "      <td>-42260.0</td>\n",
       "      <td>240980.0</td>\n",
       "    </tr>\n",
       "    <tr>\n",
       "      <th>3</th>\n",
       "      <td>80</td>\n",
       "      <td>100</td>\n",
       "      <td>-54680.0</td>\n",
       "      <td>253400.0</td>\n",
       "    </tr>\n",
       "    <tr>\n",
       "      <th>4</th>\n",
       "      <td>80</td>\n",
       "      <td>105</td>\n",
       "      <td>-67100.0</td>\n",
       "      <td>265820.0</td>\n",
       "    </tr>\n",
       "    <tr>\n",
       "      <th>5</th>\n",
       "      <td>80</td>\n",
       "      <td>110</td>\n",
       "      <td>-79520.0</td>\n",
       "      <td>278240.0</td>\n",
       "    </tr>\n",
       "    <tr>\n",
       "      <th>6</th>\n",
       "      <td>90</td>\n",
       "      <td>85</td>\n",
       "      <td>6180.0</td>\n",
       "      <td>195060.0</td>\n",
       "    </tr>\n",
       "    <tr>\n",
       "      <th>7</th>\n",
       "      <td>90</td>\n",
       "      <td>90</td>\n",
       "      <td>-5000.0</td>\n",
       "      <td>206240.0</td>\n",
       "    </tr>\n",
       "    <tr>\n",
       "      <th>8</th>\n",
       "      <td>90</td>\n",
       "      <td>95</td>\n",
       "      <td>-16180.0</td>\n",
       "      <td>217420.0</td>\n",
       "    </tr>\n",
       "    <tr>\n",
       "      <th>9</th>\n",
       "      <td>90</td>\n",
       "      <td>100</td>\n",
       "      <td>-27360.0</td>\n",
       "      <td>228600.0</td>\n",
       "    </tr>\n",
       "    <tr>\n",
       "      <th>10</th>\n",
       "      <td>90</td>\n",
       "      <td>105</td>\n",
       "      <td>-38540.0</td>\n",
       "      <td>239780.0</td>\n",
       "    </tr>\n",
       "    <tr>\n",
       "      <th>11</th>\n",
       "      <td>90</td>\n",
       "      <td>110</td>\n",
       "      <td>-49720.0</td>\n",
       "      <td>250960.0</td>\n",
       "    </tr>\n",
       "    <tr>\n",
       "      <th>12</th>\n",
       "      <td>100</td>\n",
       "      <td>85</td>\n",
       "      <td>25000.0</td>\n",
       "      <td>175000.0</td>\n",
       "    </tr>\n",
       "    <tr>\n",
       "      <th>13</th>\n",
       "      <td>100</td>\n",
       "      <td>90</td>\n",
       "      <td>15000.0</td>\n",
       "      <td>185000.0</td>\n",
       "    </tr>\n",
       "    <tr>\n",
       "      <th>14</th>\n",
       "      <td>100</td>\n",
       "      <td>95</td>\n",
       "      <td>5000.0</td>\n",
       "      <td>195000.0</td>\n",
       "    </tr>\n",
       "    <tr>\n",
       "      <th>15</th>\n",
       "      <td>100</td>\n",
       "      <td>100</td>\n",
       "      <td>-5000.0</td>\n",
       "      <td>205000.0</td>\n",
       "    </tr>\n",
       "    <tr>\n",
       "      <th>16</th>\n",
       "      <td>100</td>\n",
       "      <td>105</td>\n",
       "      <td>-15000.0</td>\n",
       "      <td>215000.0</td>\n",
       "    </tr>\n",
       "    <tr>\n",
       "      <th>17</th>\n",
       "      <td>100</td>\n",
       "      <td>110</td>\n",
       "      <td>-25000.0</td>\n",
       "      <td>225000.0</td>\n",
       "    </tr>\n",
       "    <tr>\n",
       "      <th>18</th>\n",
       "      <td>110</td>\n",
       "      <td>85</td>\n",
       "      <td>39400.0</td>\n",
       "      <td>155960.0</td>\n",
       "    </tr>\n",
       "    <tr>\n",
       "      <th>19</th>\n",
       "      <td>110</td>\n",
       "      <td>90</td>\n",
       "      <td>30520.0</td>\n",
       "      <td>164840.0</td>\n",
       "    </tr>\n",
       "    <tr>\n",
       "      <th>20</th>\n",
       "      <td>110</td>\n",
       "      <td>95</td>\n",
       "      <td>21640.0</td>\n",
       "      <td>173720.0</td>\n",
       "    </tr>\n",
       "    <tr>\n",
       "      <th>21</th>\n",
       "      <td>110</td>\n",
       "      <td>100</td>\n",
       "      <td>12760.0</td>\n",
       "      <td>182600.0</td>\n",
       "    </tr>\n",
       "    <tr>\n",
       "      <th>22</th>\n",
       "      <td>110</td>\n",
       "      <td>105</td>\n",
       "      <td>3880.0</td>\n",
       "      <td>191480.0</td>\n",
       "    </tr>\n",
       "    <tr>\n",
       "      <th>23</th>\n",
       "      <td>110</td>\n",
       "      <td>110</td>\n",
       "      <td>-5000.0</td>\n",
       "      <td>200360.0</td>\n",
       "    </tr>\n",
       "    <tr>\n",
       "      <th>24</th>\n",
       "      <td>120</td>\n",
       "      <td>85</td>\n",
       "      <td>49740.0</td>\n",
       "      <td>137940.0</td>\n",
       "    </tr>\n",
       "    <tr>\n",
       "      <th>25</th>\n",
       "      <td>120</td>\n",
       "      <td>90</td>\n",
       "      <td>41920.0</td>\n",
       "      <td>145760.0</td>\n",
       "    </tr>\n",
       "    <tr>\n",
       "      <th>26</th>\n",
       "      <td>120</td>\n",
       "      <td>95</td>\n",
       "      <td>34100.0</td>\n",
       "      <td>153580.0</td>\n",
       "    </tr>\n",
       "    <tr>\n",
       "      <th>27</th>\n",
       "      <td>120</td>\n",
       "      <td>100</td>\n",
       "      <td>26280.0</td>\n",
       "      <td>161400.0</td>\n",
       "    </tr>\n",
       "    <tr>\n",
       "      <th>28</th>\n",
       "      <td>120</td>\n",
       "      <td>105</td>\n",
       "      <td>18460.0</td>\n",
       "      <td>169220.0</td>\n",
       "    </tr>\n",
       "    <tr>\n",
       "      <th>29</th>\n",
       "      <td>120</td>\n",
       "      <td>110</td>\n",
       "      <td>10640.0</td>\n",
       "      <td>177040.0</td>\n",
       "    </tr>\n",
       "    <tr>\n",
       "      <th>30</th>\n",
       "      <td>130</td>\n",
       "      <td>85</td>\n",
       "      <td>56380.0</td>\n",
       "      <td>120940.0</td>\n",
       "    </tr>\n",
       "    <tr>\n",
       "      <th>31</th>\n",
       "      <td>130</td>\n",
       "      <td>90</td>\n",
       "      <td>49560.0</td>\n",
       "      <td>127760.0</td>\n",
       "    </tr>\n",
       "    <tr>\n",
       "      <th>32</th>\n",
       "      <td>130</td>\n",
       "      <td>95</td>\n",
       "      <td>42740.0</td>\n",
       "      <td>134580.0</td>\n",
       "    </tr>\n",
       "    <tr>\n",
       "      <th>33</th>\n",
       "      <td>130</td>\n",
       "      <td>100</td>\n",
       "      <td>35920.0</td>\n",
       "      <td>141400.0</td>\n",
       "    </tr>\n",
       "    <tr>\n",
       "      <th>34</th>\n",
       "      <td>130</td>\n",
       "      <td>105</td>\n",
       "      <td>29100.0</td>\n",
       "      <td>148220.0</td>\n",
       "    </tr>\n",
       "    <tr>\n",
       "      <th>35</th>\n",
       "      <td>130</td>\n",
       "      <td>110</td>\n",
       "      <td>22280.0</td>\n",
       "      <td>155040.0</td>\n",
       "    </tr>\n",
       "    <tr>\n",
       "      <th>36</th>\n",
       "      <td>140</td>\n",
       "      <td>85</td>\n",
       "      <td>59680.0</td>\n",
       "      <td>104960.0</td>\n",
       "    </tr>\n",
       "    <tr>\n",
       "      <th>37</th>\n",
       "      <td>140</td>\n",
       "      <td>90</td>\n",
       "      <td>53800.0</td>\n",
       "      <td>110840.0</td>\n",
       "    </tr>\n",
       "    <tr>\n",
       "      <th>38</th>\n",
       "      <td>140</td>\n",
       "      <td>95</td>\n",
       "      <td>47920.0</td>\n",
       "      <td>116720.0</td>\n",
       "    </tr>\n",
       "    <tr>\n",
       "      <th>39</th>\n",
       "      <td>140</td>\n",
       "      <td>100</td>\n",
       "      <td>42040.0</td>\n",
       "      <td>122600.0</td>\n",
       "    </tr>\n",
       "    <tr>\n",
       "      <th>40</th>\n",
       "      <td>140</td>\n",
       "      <td>105</td>\n",
       "      <td>36160.0</td>\n",
       "      <td>128480.0</td>\n",
       "    </tr>\n",
       "    <tr>\n",
       "      <th>41</th>\n",
       "      <td>140</td>\n",
       "      <td>110</td>\n",
       "      <td>30280.0</td>\n",
       "      <td>134360.0</td>\n",
       "    </tr>\n",
       "  </tbody>\n",
       "</table>\n",
       "</div>"
      ],
      "text/plain": [
       "    selling_price  var_cost   profit  total_cost\n",
       "0              80        85 -17420.0    216140.0\n",
       "1              80        90 -29840.0    228560.0\n",
       "2              80        95 -42260.0    240980.0\n",
       "3              80       100 -54680.0    253400.0\n",
       "4              80       105 -67100.0    265820.0\n",
       "5              80       110 -79520.0    278240.0\n",
       "6              90        85   6180.0    195060.0\n",
       "7              90        90  -5000.0    206240.0\n",
       "8              90        95 -16180.0    217420.0\n",
       "9              90       100 -27360.0    228600.0\n",
       "10             90       105 -38540.0    239780.0\n",
       "11             90       110 -49720.0    250960.0\n",
       "12            100        85  25000.0    175000.0\n",
       "13            100        90  15000.0    185000.0\n",
       "14            100        95   5000.0    195000.0\n",
       "15            100       100  -5000.0    205000.0\n",
       "16            100       105 -15000.0    215000.0\n",
       "17            100       110 -25000.0    225000.0\n",
       "18            110        85  39400.0    155960.0\n",
       "19            110        90  30520.0    164840.0\n",
       "20            110        95  21640.0    173720.0\n",
       "21            110       100  12760.0    182600.0\n",
       "22            110       105   3880.0    191480.0\n",
       "23            110       110  -5000.0    200360.0\n",
       "24            120        85  49740.0    137940.0\n",
       "25            120        90  41920.0    145760.0\n",
       "26            120        95  34100.0    153580.0\n",
       "27            120       100  26280.0    161400.0\n",
       "28            120       105  18460.0    169220.0\n",
       "29            120       110  10640.0    177040.0\n",
       "30            130        85  56380.0    120940.0\n",
       "31            130        90  49560.0    127760.0\n",
       "32            130        95  42740.0    134580.0\n",
       "33            130       100  35920.0    141400.0\n",
       "34            130       105  29100.0    148220.0\n",
       "35            130       110  22280.0    155040.0\n",
       "36            140        85  59680.0    104960.0\n",
       "37            140        90  53800.0    110840.0\n",
       "38            140        95  47920.0    116720.0\n",
       "39            140       100  42040.0    122600.0\n",
       "40            140       105  36160.0    128480.0\n",
       "41            140       110  30280.0    134360.0"
      ]
     },
     "execution_count": 173,
     "metadata": {},
     "output_type": "execute_result"
    }
   ],
   "source": [
    "# Specifying input ranges between $80 and $140\n",
    "dt_param_range2 = {'selling_price': np.arange(80, 141, 10),\n",
    "                  'var_cost': np.arange(85, 111, 5)}\n",
    "\n",
    "# specifying output\n",
    "outputs = ['profit', 'total_cost']\n",
    "\n",
    "# Creation of 1-way data table\n",
    "model_dt2 = model.data_table(dt_param_range2, outputs)\n",
    "model_dt2"
   ]
  },
  {
   "cell_type": "code",
   "execution_count": 216,
   "id": "25cad2e6-ed75-4874-8303-925f6d4f3637",
   "metadata": {},
   "outputs": [
    {
     "data": {
      "image/png": "[encoded data removed]",
      "text/plain": [
       "<Figure size 900x900 with 7 Axes>"
      ]
     },
     "metadata": {},
     "output_type": "display_data"
    }
   ],
   "source": [
    "profit_dt_g = sns.FacetGrid(model_dt2, col=\"selling_price\", sharey=True, col_wrap=3).refline(y=0)\n",
    "profit_dt2 = profit_dt_g.map(plt.plot, \"var_cost\", \"profit\")"
   ]
  },
  {
   "cell_type": "code",
   "execution_count": 218,
   "id": "18b558e7-0356-4120-8957-bb9d7d5ba525",
   "metadata": {},
   "outputs": [],
   "source": [
    "# # Initialize plot\n",
    "# plt.style.use('ggplot')\n",
    "# fig, ax = plt.subplots()\n",
    "\n",
    "# # Create series variables\n",
    "# total_cost = np.array(model_dt2['total_cost'])\n",
    "# var_cost = np.array(model_dt2['var_cost'])\n",
    "# selling_price = np.array(model_dt2['selling_price'])\n",
    "# profit = np.array(model_dt2['profit'])\n",
    "\n",
    "# # Plot series\n",
    "# #ax.plot(selling_price, total_cost, label='Total cost')\n",
    "# ax.plot(var_cost, profit, label='Total var cost')\n",
    "# ax.plot(selling_price, profit, label='Profit')\n",
    "\n",
    "# # # Style plot elements\n",
    "# # ax.set(title='Break even analysis for bookstore model', xlabel='Demand', ylabel='$')\n",
    "# plt.hlines(0, 70, 320, linestyles='dotted')\n",
    "# #plt.vlines(break_even_demand, -750, 2000, linestyles='dotted')\n",
    "# ax.legend(loc='lower right')\n",
    "\n",
    "# # Show the plot\n",
    "# plt.show()"
   ]
  },
  {
   "cell_type": "code",
   "execution_count": 177,
   "id": "5de796ce-70e8-4703-a741-3c2d8703fd09",
   "metadata": {},
   "outputs": [],
   "source": [
    "# model_goal1_dt2 = model.goal_seek('profit', 0, 'selling_price', 80, 141, 1000)\n",
    "# model_goal2_dt2 = model.goal_seek('total_cost', 0, 'selling_price', 80, 141, 1000)\n",
    "# model_goal3_dt2 = model.goal_seek('profit', 0, 'var_cost', 85, 111, 1000)\n",
    "# model_goal4_dt2 = model.goal_seek('total_cost', 0, 'var_cost', 85, 111, 1000)\n",
    "# print(f\"The Break Even point for this scenario is for selling price to be at: {model_goal1_dt2}\")\n",
    "# print(f\"The Break Even point for this scenario is for selling price to be at: {model_goal2_dt2}\")\n",
    "# print(f\"The Break Even point for this scenario is for selling price to be at: {model_goal3_dt2}\")\n",
    "# print(f\"The Break Even point for this scenario is for selling price to be at: {model_goal4_dt2}\")"
   ]
  },
  {
   "cell_type": "markdown",
   "id": "f04dbd98-bce9-4cdd-83a8-3c5ffbbd3be2",
   "metadata": {},
   "source": [
    "**Explanation:**"
   ]
  },
  {
   "cell_type": "markdown",
   "id": "27e73da1-5366-4917-892f-9ab3fbf0cb60",
   "metadata": {},
   "source": [
    "## 1e - Digging Deeper"
   ]
  },
  {
   "cell_type": "code",
   "execution_count": 224,
   "id": "cd101f32-2b12-4fc4-aec8-dd0479dba491",
   "metadata": {},
   "outputs": [
    {
     "data": {
      "text/html": [
       "<div>\n",
       "<style scoped>\n",
       "    .dataframe tbody tr th:only-of-type {\n",
       "        vertical-align: middle;\n",
       "    }\n",
       "\n",
       "    .dataframe tbody tr th {\n",
       "        vertical-align: top;\n",
       "    }\n",
       "\n",
       "    .dataframe thead th {\n",
       "        text-align: right;\n",
       "    }\n",
       "</style>\n",
       "<table border=\"1\" class=\"dataframe\">\n",
       "  <thead>\n",
       "    <tr style=\"text-align: right;\">\n",
       "      <th></th>\n",
       "      <th>selling_price</th>\n",
       "      <th>profit</th>\n",
       "      <th>demand</th>\n",
       "    </tr>\n",
       "  </thead>\n",
       "  <tbody>\n",
       "    <tr>\n",
       "      <th>0</th>\n",
       "      <td>80</td>\n",
       "      <td>-54680.0</td>\n",
       "      <td>2484.0</td>\n",
       "    </tr>\n",
       "    <tr>\n",
       "      <th>1</th>\n",
       "      <td>90</td>\n",
       "      <td>-27360.0</td>\n",
       "      <td>2236.0</td>\n",
       "    </tr>\n",
       "    <tr>\n",
       "      <th>2</th>\n",
       "      <td>100</td>\n",
       "      <td>-5000.0</td>\n",
       "      <td>2000.0</td>\n",
       "    </tr>\n",
       "    <tr>\n",
       "      <th>3</th>\n",
       "      <td>110</td>\n",
       "      <td>12760.0</td>\n",
       "      <td>1776.0</td>\n",
       "    </tr>\n",
       "    <tr>\n",
       "      <th>4</th>\n",
       "      <td>120</td>\n",
       "      <td>26280.0</td>\n",
       "      <td>1564.0</td>\n",
       "    </tr>\n",
       "    <tr>\n",
       "      <th>5</th>\n",
       "      <td>130</td>\n",
       "      <td>35920.0</td>\n",
       "      <td>1364.0</td>\n",
       "    </tr>\n",
       "    <tr>\n",
       "      <th>6</th>\n",
       "      <td>140</td>\n",
       "      <td>42040.0</td>\n",
       "      <td>1176.0</td>\n",
       "    </tr>\n",
       "    <tr>\n",
       "      <th>7</th>\n",
       "      <td>150</td>\n",
       "      <td>45000.0</td>\n",
       "      <td>1000.0</td>\n",
       "    </tr>\n",
       "    <tr>\n",
       "      <th>8</th>\n",
       "      <td>160</td>\n",
       "      <td>45160.0</td>\n",
       "      <td>836.0</td>\n",
       "    </tr>\n",
       "    <tr>\n",
       "      <th>9</th>\n",
       "      <td>170</td>\n",
       "      <td>42880.0</td>\n",
       "      <td>684.0</td>\n",
       "    </tr>\n",
       "    <tr>\n",
       "      <th>10</th>\n",
       "      <td>180</td>\n",
       "      <td>38520.0</td>\n",
       "      <td>544.0</td>\n",
       "    </tr>\n",
       "    <tr>\n",
       "      <th>11</th>\n",
       "      <td>190</td>\n",
       "      <td>32440.0</td>\n",
       "      <td>416.0</td>\n",
       "    </tr>\n",
       "    <tr>\n",
       "      <th>12</th>\n",
       "      <td>200</td>\n",
       "      <td>25000.0</td>\n",
       "      <td>300.0</td>\n",
       "    </tr>\n",
       "    <tr>\n",
       "      <th>13</th>\n",
       "      <td>210</td>\n",
       "      <td>16560.0</td>\n",
       "      <td>196.0</td>\n",
       "    </tr>\n",
       "    <tr>\n",
       "      <th>14</th>\n",
       "      <td>220</td>\n",
       "      <td>7480.0</td>\n",
       "      <td>104.0</td>\n",
       "    </tr>\n",
       "    <tr>\n",
       "      <th>15</th>\n",
       "      <td>230</td>\n",
       "      <td>-1880.0</td>\n",
       "      <td>24.0</td>\n",
       "    </tr>\n",
       "    <tr>\n",
       "      <th>16</th>\n",
       "      <td>240</td>\n",
       "      <td>-11160.0</td>\n",
       "      <td>-44.0</td>\n",
       "    </tr>\n",
       "    <tr>\n",
       "      <th>17</th>\n",
       "      <td>250</td>\n",
       "      <td>-20000.0</td>\n",
       "      <td>-100.0</td>\n",
       "    </tr>\n",
       "  </tbody>\n",
       "</table>\n",
       "</div>"
      ],
      "text/plain": [
       "    selling_price   profit  demand\n",
       "0              80 -54680.0  2484.0\n",
       "1              90 -27360.0  2236.0\n",
       "2             100  -5000.0  2000.0\n",
       "3             110  12760.0  1776.0\n",
       "4             120  26280.0  1564.0\n",
       "5             130  35920.0  1364.0\n",
       "6             140  42040.0  1176.0\n",
       "7             150  45000.0  1000.0\n",
       "8             160  45160.0   836.0\n",
       "9             170  42880.0   684.0\n",
       "10            180  38520.0   544.0\n",
       "11            190  32440.0   416.0\n",
       "12            200  25000.0   300.0\n",
       "13            210  16560.0   196.0\n",
       "14            220   7480.0   104.0\n",
       "15            230  -1880.0    24.0\n",
       "16            240 -11160.0   -44.0\n",
       "17            250 -20000.0  -100.0"
      ]
     },
     "execution_count": 224,
     "metadata": {},
     "output_type": "execute_result"
    }
   ],
   "source": [
    "# Specifying input ranges\n",
    "dt_param_range3 = {'selling_price': np.arange(80, 251, 10)}\n",
    "\n",
    "# specifying output\n",
    "outputs = ['profit', 'demand']\n",
    "\n",
    "# Creation of 1-way data table\n",
    "model_dt1_again = model.data_table(dt_param_range3, outputs)\n",
    "model_dt1_again"
   ]
  },
  {
   "cell_type": "code",
   "execution_count": 232,
   "id": "71f72832-a077-4134-af23-1585438ed6f4",
   "metadata": {},
   "outputs": [
    {
     "name": "stdout",
     "output_type": "stream",
     "text": [
      "The Break Even point for this scenario is for selling price to be at: None\n"
     ]
    }
   ],
   "source": [
    "# Specifying input ranges\n",
    "dt_param_range3 = {'selling_price': np.arange(80, 251, 10)}\n",
    "\n",
    "# specifying output\n",
    "outputs = ['profit', 'demand']\n",
    "\n",
    "model_goal_extra = model.goal_seek('profit', 0, 'selling_price', 80, 251, 1000)\n",
    "print(f\"The Break Even point for this scenario is for selling price to be at: {model_goal_extra}\")"
   ]
  },
  {
   "cell_type": "code",
   "execution_count": 234,
   "id": "bcd2996b-36f0-45f1-8192-837d59edbfa0",
   "metadata": {},
   "outputs": [
    {
     "data": {
      "image/png": "[encoded data removed]",
      "text/plain": [
       "<Figure size 640x480 with 1 Axes>"
      ]
     },
     "metadata": {},
     "output_type": "display_data"
    }
   ],
   "source": [
    "sns.set_style(\"darkgrid\")\n",
    "sns.scatterplot(x=\"demand\", y=\"selling_price\", hue=\"profit\", data=model_dt1_again, palette=\"viridis\").set(title='How profit varies w/ demand and selling_price');"
   ]
  },
  {
   "cell_type": "markdown",
   "id": "1f6a616a-1919-4fbc-972c-fcf8e60a7e39",
   "metadata": {},
   "source": [
    "**Explanation:**"
   ]
  },
  {
   "cell_type": "markdown",
   "id": "d3ca4ce1-8584-4e58-8c96-8946172e126a",
   "metadata": {},
   "source": [
    "## 1f - Simulation"
   ]
  },
  {
   "cell_type": "code",
   "execution_count": 253,
   "id": "da7df834-82c5-4f2f-9a5f-b77885450576",
   "metadata": {},
   "outputs": [],
   "source": [
    "from numpy.random import default_rng\n",
    "rg = default_rng(4470)"
   ]
  },
  {
   "cell_type": "code",
   "execution_count": 257,
   "id": "f5a48882-4eb3-4d08-97c2-08a91454da5f",
   "metadata": {},
   "outputs": [],
   "source": [
    "num_reps = 100\n",
    "\n",
    "random_inputs = {'var_cost': rg.uniform(80, 120, num_reps)}\n",
    "\n",
    "scenario_inputs = {'selling_price': np.arange(80, 141, 10)}\n",
    "\n",
    "sim_outputs = ['profit']"
   ]
  },
  {
   "cell_type": "code",
   "execution_count": 263,
   "id": "19ca48c5-cbe8-4f8a-a50a-1b026ab48ebb",
   "metadata": {},
   "outputs": [],
   "source": [
    "model_simulate = model.simulate(random_inputs, sim_outputs, scenario_inputs)"
   ]
  },
  {
   "cell_type": "code",
   "execution_count": 265,
   "id": "73f86e4c-c91f-4726-a312-dcc4a14c989f",
   "metadata": {},
   "outputs": [],
   "source": [
    "def get_sim_results_df(results):\n",
    "    \n",
    "    dfs = []    \n",
    "    for r in results:\n",
    "        df = pd.DataFrame(r['output'])\n",
    "        df['scenario_num'] = r['scenario_num']\n",
    "        for key, val in r['scenario_vals'].items():\n",
    "            df[key] = val\n",
    "            \n",
    "        dfs.append(df)\n",
    "\n",
    "    results_df = pd.concat(dfs)\n",
    "    \n",
    "    return results_df"
   ]
  },
  {
   "cell_type": "code",
   "execution_count": 267,
   "id": "3e6e5bd6-29f7-4c5e-8a99-5e334e59b6d3",
   "metadata": {},
   "outputs": [],
   "source": [
    "model_results_df = get_sim_results_df(model_simulate)"
   ]
  },
  {
   "cell_type": "code",
   "execution_count": 269,
   "id": "7d28d285-2de2-4564-a73e-acd9c44845fe",
   "metadata": {},
   "outputs": [
    {
     "data": {
      "text/html": [
       "<div>\n",
       "<style scoped>\n",
       "    .dataframe tbody tr th:only-of-type {\n",
       "        vertical-align: middle;\n",
       "    }\n",
       "\n",
       "    .dataframe tbody tr th {\n",
       "        vertical-align: top;\n",
       "    }\n",
       "\n",
       "    .dataframe thead th {\n",
       "        text-align: right;\n",
       "    }\n",
       "</style>\n",
       "<table border=\"1\" class=\"dataframe\">\n",
       "  <thead>\n",
       "    <tr style=\"text-align: right;\">\n",
       "      <th></th>\n",
       "      <th>profit</th>\n",
       "      <th>scenario_num</th>\n",
       "      <th>selling_price</th>\n",
       "    </tr>\n",
       "  </thead>\n",
       "  <tbody>\n",
       "    <tr>\n",
       "      <th>0</th>\n",
       "      <td>-50562.327290</td>\n",
       "      <td>0</td>\n",
       "      <td>80</td>\n",
       "    </tr>\n",
       "    <tr>\n",
       "      <th>1</th>\n",
       "      <td>-19925.613514</td>\n",
       "      <td>0</td>\n",
       "      <td>80</td>\n",
       "    </tr>\n",
       "    <tr>\n",
       "      <th>2</th>\n",
       "      <td>-26051.175350</td>\n",
       "      <td>0</td>\n",
       "      <td>80</td>\n",
       "    </tr>\n",
       "    <tr>\n",
       "      <th>3</th>\n",
       "      <td>-39043.526957</td>\n",
       "      <td>0</td>\n",
       "      <td>80</td>\n",
       "    </tr>\n",
       "    <tr>\n",
       "      <th>4</th>\n",
       "      <td>-97835.214506</td>\n",
       "      <td>0</td>\n",
       "      <td>80</td>\n",
       "    </tr>\n",
       "    <tr>\n",
       "      <th>...</th>\n",
       "      <td>...</td>\n",
       "      <td>...</td>\n",
       "      <td>...</td>\n",
       "    </tr>\n",
       "    <tr>\n",
       "      <th>95</th>\n",
       "      <td>53903.957141</td>\n",
       "      <td>6</td>\n",
       "      <td>140</td>\n",
       "    </tr>\n",
       "    <tr>\n",
       "      <th>96</th>\n",
       "      <td>64067.062224</td>\n",
       "      <td>6</td>\n",
       "      <td>140</td>\n",
       "    </tr>\n",
       "    <tr>\n",
       "      <th>97</th>\n",
       "      <td>49326.568539</td>\n",
       "      <td>6</td>\n",
       "      <td>140</td>\n",
       "    </tr>\n",
       "    <tr>\n",
       "      <th>98</th>\n",
       "      <td>24750.973733</td>\n",
       "      <td>6</td>\n",
       "      <td>140</td>\n",
       "    </tr>\n",
       "    <tr>\n",
       "      <th>99</th>\n",
       "      <td>56258.032295</td>\n",
       "      <td>6</td>\n",
       "      <td>140</td>\n",
       "    </tr>\n",
       "  </tbody>\n",
       "</table>\n",
       "<p>700 rows × 3 columns</p>\n",
       "</div>"
      ],
      "text/plain": [
       "          profit  scenario_num  selling_price\n",
       "0  -50562.327290             0             80\n",
       "1  -19925.613514             0             80\n",
       "2  -26051.175350             0             80\n",
       "3  -39043.526957             0             80\n",
       "4  -97835.214506             0             80\n",
       "..           ...           ...            ...\n",
       "95  53903.957141             6            140\n",
       "96  64067.062224             6            140\n",
       "97  49326.568539             6            140\n",
       "98  24750.973733             6            140\n",
       "99  56258.032295             6            140\n",
       "\n",
       "[700 rows x 3 columns]"
      ]
     },
     "execution_count": 269,
     "metadata": {},
     "output_type": "execute_result"
    }
   ],
   "source": [
    "model_results_df"
   ]
  },
  {
   "cell_type": "code",
   "execution_count": 275,
   "id": "1ebce8c3-c94e-4311-8c67-a44e68d651ff",
   "metadata": {},
   "outputs": [
    {
     "data": {
      "image/png": "[encoded data removed]",
      "text/plain": [
       "<Figure size 1200x600 with 7 Axes>"
      ]
     },
     "metadata": {},
     "output_type": "display_data"
    }
   ],
   "source": [
    "profit_histo_g2 = sns.FacetGrid(model_results_df, col='selling_price', sharey=True, col_wrap=4).refline(x=0)\n",
    "profit_histo_g2 = profit_histo_g2.map(plt.hist, \"profit\")"
   ]
  },
  {
   "cell_type": "markdown",
   "id": "553737f4-9703-4523-8703-c34a1ed0a897",
   "metadata": {},
   "source": [
    "**Explanation:**"
   ]
  },
  {
   "cell_type": "code",
   "execution_count": null,
   "id": "8f4c2890-7cf4-4a08-9092-19ba055500dc",
   "metadata": {},
   "outputs": [],
   "source": []
  }
 ],
 "metadata": {
  "kernelspec": {
   "display_name": "Python [conda env:aap]",
   "language": "python",
   "name": "conda-env-aap-py"
  },
  "language_info": {
   "codemirror_mode": {
    "name": "ipython",
    "version": 3
   },
   "file_extension": ".py",
   "mimetype": "text/x-python",
   "name": "python",
   "nbconvert_exporter": "python",
   "pygments_lexer": "ipython3",
   "version": "3.12.3"
  }
 },
 "nbformat": 4,
 "nbformat_minor": 5
}
